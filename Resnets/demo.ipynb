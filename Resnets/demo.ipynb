{
 "cells": [
  {
   "cell_type": "code",
   "execution_count": 2,
   "metadata": {},
   "outputs": [],
   "source": [
    "from Implementation import Resnet\n",
    "import torch"
   ]
  },
  {
   "cell_type": "code",
   "execution_count": 6,
   "metadata": {},
   "outputs": [],
   "source": [
    "img=torch.rand((1,3,224,224))"
   ]
  },
  {
   "cell_type": "code",
   "execution_count": 7,
   "metadata": {},
   "outputs": [],
   "source": [
    "resnet50=Resnet(3,4,6,3)\n",
    "resnet101=Resnet(3,4,23,3)\n",
    "resnet152=Resnet(3,8,36,3)"
   ]
  },
  {
   "cell_type": "code",
   "execution_count": 9,
   "metadata": {},
   "outputs": [
    {
     "name": "stdout",
     "output_type": "stream",
     "text": [
      "torch.Size([1, 64, 112, 112]) conv1\n",
      "torch.Size([1, 256, 56, 56]) conv2\n",
      "torch.Size([1, 512, 28, 28]) conv3\n",
      "torch.Size([1, 1024, 14, 14]) conv4\n",
      "torch.Size([1, 2048, 7, 7]) conv5\n"
     ]
    },
    {
     "data": {
      "text/plain": [
       "tensor([[ 0.7576, -1.4381]], grad_fn=<AddmmBackward0>)"
      ]
     },
     "execution_count": 9,
     "metadata": {},
     "output_type": "execute_result"
    }
   ],
   "source": [
    "resnet50(img)"
   ]
  },
  {
   "cell_type": "code",
   "execution_count": 10,
   "metadata": {},
   "outputs": [
    {
     "name": "stdout",
     "output_type": "stream",
     "text": [
      "torch.Size([1, 64, 112, 112]) conv1\n",
      "torch.Size([1, 256, 56, 56]) conv2\n",
      "torch.Size([1, 512, 28, 28]) conv3\n",
      "torch.Size([1, 1024, 14, 14]) conv4\n",
      "torch.Size([1, 2048, 7, 7]) conv5\n"
     ]
    },
    {
     "data": {
      "text/plain": [
       "tensor([[ 0.0452, -0.1647]], grad_fn=<AddmmBackward0>)"
      ]
     },
     "execution_count": 10,
     "metadata": {},
     "output_type": "execute_result"
    }
   ],
   "source": [
    "resnet101(img)"
   ]
  },
  {
   "cell_type": "code",
   "execution_count": 11,
   "metadata": {},
   "outputs": [
    {
     "name": "stdout",
     "output_type": "stream",
     "text": [
      "torch.Size([1, 64, 112, 112]) conv1\n",
      "torch.Size([1, 256, 56, 56]) conv2\n",
      "torch.Size([1, 512, 28, 28]) conv3\n",
      "torch.Size([1, 1024, 14, 14]) conv4\n",
      "torch.Size([1, 2048, 7, 7]) conv5\n"
     ]
    },
    {
     "data": {
      "text/plain": [
       "tensor([[1.0185, 0.4404]], grad_fn=<AddmmBackward0>)"
      ]
     },
     "execution_count": 11,
     "metadata": {},
     "output_type": "execute_result"
    }
   ],
   "source": [
    "resnet152(img)"
   ]
  },
  {
   "cell_type": "code",
   "execution_count": null,
   "metadata": {},
   "outputs": [],
   "source": []
  }
 ],
 "metadata": {
  "kernelspec": {
   "display_name": "base",
   "language": "python",
   "name": "python3"
  },
  "language_info": {
   "codemirror_mode": {
    "name": "ipython",
    "version": 3
   },
   "file_extension": ".py",
   "mimetype": "text/x-python",
   "name": "python",
   "nbconvert_exporter": "python",
   "pygments_lexer": "ipython3",
   "version": "3.9.17"
  },
  "orig_nbformat": 4
 },
 "nbformat": 4,
 "nbformat_minor": 2
}
